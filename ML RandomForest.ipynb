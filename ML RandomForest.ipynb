{
 "cells": [
  {
   "cell_type": "markdown",
   "metadata": {},
   "source": [
    "# Apurva Deore \n"
   ]
  },
  {
   "cell_type": "markdown",
   "metadata": {},
   "source": [
    "### Importing neessary modules"
   ]
  },
  {
   "cell_type": "code",
   "execution_count": 358,
   "metadata": {},
   "outputs": [],
   "source": [
    "import pandas as pd\n",
    "import numpy as np\n",
    "import urllib\n",
    "from bs4 import BeautifulSoup\n",
    "import nltk\n",
    "from nltk.corpus import stopwords\n",
    "from nltk.stem.porter import PorterStemmer\n",
    "from tokenize import tokenize"
   ]
  },
  {
   "cell_type": "code",
   "execution_count": 359,
   "metadata": {},
   "outputs": [],
   "source": [
    "from sklearn.feature_extraction.text import TfidfVectorizer\n",
    "from sklearn.feature_extraction.text import CountVectorizer\n",
    "from sklearn.neighbors import KNeighborsClassifier\n",
    "from sklearn.ensemble import RandomForestClassifier\n",
    "from sklearn.model_selection import train_test_split\n",
    "from sklearn.metrics import classification_report, confusion_matrix, accuracy_score"
   ]
  },
  {
   "cell_type": "code",
   "execution_count": 360,
   "metadata": {},
   "outputs": [],
   "source": [
    "import re\n",
    "import requests"
   ]
  },
  {
   "cell_type": "markdown",
   "metadata": {},
   "source": [
    "## TASK 1: Selecting Three Categories"
   ]
  },
  {
   "cell_type": "code",
   "execution_count": 339,
   "metadata": {},
   "outputs": [],
   "source": [
    "original_link = \"http://mlg.ucd.ie/modules/yalp/\"  #Storing the main link that directs to the main page"
   ]
  },
  {
   "cell_type": "markdown",
   "metadata": {},
   "source": [
    "### Creating a function to Parse data from any Website"
   ]
  },
  {
   "cell_type": "code",
   "execution_count": 361,
   "metadata": {},
   "outputs": [],
   "source": [
    "#https://realpython.com/beautiful-soup-web-scraper-python/\n",
    "\n",
    "def website_parse(site):\n",
    "    site = site\n",
    "    html = requests.get(site)\n",
    "    content = BeautifulSoup(html.content, \"html.parser\")   \n",
    "    return content"
   ]
  },
  {
   "cell_type": "code",
   "execution_count": 362,
   "metadata": {},
   "outputs": [],
   "source": [
    "#Function that scrapes the already parsed webpage returned from above code\n",
    "def website_scrape(p):\n",
    "    links = []\n",
    "    \n",
    "    for a in p.find_all('a', href=True):    #finding all the anchor tags\n",
    "        if p.text:\n",
    "            links.append(a['href'])     #provides a list of links(hrefs) in the webpage\n",
    "    links.pop(0)\n",
    "    return links\n"
   ]
  },
  {
   "cell_type": "code",
   "execution_count": 363,
   "metadata": {},
   "outputs": [],
   "source": [
    "#Function to create a dataframe which stores reviews and ratings labelled as positive or negative\n",
    "\n",
    "def createdf(mycategories):   \n",
    "    df = []\n",
    "    textualdata = []\n",
    "    rate = []\n",
    "    \n",
    "    for businesslink in mycategories:\n",
    "        parsing = website_parse(original_link + businesslink)\n",
    "        \n",
    "        for texts in parsing.findAll('p', class_ =\"review-text\"):\n",
    "            textualdata.append(texts.text)\n",
    "            \n",
    "        for rates in parsing.findAll('img'):\n",
    "            if rates.get('alt') != None:\n",
    "                \n",
    "                if int(rates.get('alt').split()[0][0]) < 4:\n",
    "                    rate.append('Negative')\n",
    "                else:\n",
    "                    rate.append('Positive')\n",
    "                            \n",
    "    df = pd.DataFrame(list(zip(textualdata, rate)), columns =['Reviews', 'Rating'])\n",
    "    return df"
   ]
  },
  {
   "cell_type": "code",
   "execution_count": 364,
   "metadata": {},
   "outputs": [
    {
     "name": "stdout",
     "output_type": "stream",
     "text": [
      "['automotive_list.html', 'cafes_list.html', 'fashion_list.html', 'gym_list.html', 'hair_salons_list.html', 'hotels_list.html', 'restaurants_list.html']\n"
     ]
    }
   ],
   "source": [
    "parsingpage = website_parse(original_link) \n",
    "List_of_business = website_scrape(parsingpage) #list of links for all business\n",
    "print(List_of_business)"
   ]
  },
  {
   "cell_type": "code",
   "execution_count": 365,
   "metadata": {},
   "outputs": [],
   "source": [
    "mycategories = []\n",
    "for business in List_of_business[0:3]: #selecting first 3 businesses categories: Automative, Cafes and Fashion\n",
    "    businessparse = website_parse(original_link + business) #to parse data from the main page and the categories selected\n",
    "    mycategories.append(website_scrape(businessparse))  #passing it through a function to scrape data from the links"
   ]
  },
  {
   "cell_type": "code",
   "execution_count": 366,
   "metadata": {},
   "outputs": [
    {
     "data": {
      "text/plain": [
       "[['review_set_BS4u8wkRb70FDBZcYkJ9kQ.html',\n",
       "  'review_set_3O2HLFpUZKWxE55Mpzg81g.html',\n",
       "  'review_set_jeG-c5GwD0Uf0Ou5DLFTZg.html',\n",
       "  'review_set_UGQEXFibRZIebMRkuJqh3Q.html',\n",
       "  'review_set_o1IS7-SvFXmijKDc6UY55Q.html',\n",
       "  'review_set_iojTeSaoPuxm4WeCzDUA6w.html',\n",
       "  'review_set_vadTcg3fvqiXj0Bh9Lv3zg.html',\n",
       "  'review_set_LPgOZAUsuLlAyGMqLiZiDw.html',\n",
       "  'review_set_C6z99t2F3xMtq85BQX9Y0w.html',\n",
       "  'review_set_75CuAwTs4Mt05DDPr5IgAA.html',\n",
       "  'review_set_ZtBW0tQrqdIg4U303IFJGQ.html',\n",
       "  'review_set_yYMOgYW0eYtAyjGN08WzMA.html',\n",
       "  'review_set_06I2r8S3tHP_LwGnnkk6Uw.html',\n",
       "  'review_set_zIlLvHaSd5TePD7bmWAbfg.html',\n",
       "  'review_set_uUHiE2wgrz8SZmiWDcfPow.html',\n",
       "  'review_set_fEylCY3UEH8YJ0Xa7lu6lA.html',\n",
       "  'review_set_6lfGG1LvT8OthWEh9Us-Hg.html',\n",
       "  'review_set_6nWyU5V3yINOq_DNWbpRDg.html',\n",
       "  'review_set_fFClJbyFz-_Edv9lNy6fkQ.html',\n",
       "  'review_set_31CsUV4qPnFleXR0aV8OPw.html',\n",
       "  'review_set_PJbwMeZctljcMfxVo2Qacw.html',\n",
       "  'review_set_SnpFUqKG6ZjurXYq5wZU_g.html',\n",
       "  'review_set_LcpMlrBYYSrUhZKfLS5JGg.html',\n",
       "  'review_set_ccw1jaEjeWaM20C2xvqWow.html',\n",
       "  'review_set_j06vAL0fmcB0WQKnY3Yr_A.html',\n",
       "  'review_set_NB1wLg8MOIRzs5rCReoeng.html',\n",
       "  'review_set_IVCtbomAnQVpYUZxnRCkdQ.html',\n",
       "  'review_set_8HBgPqwmBZcBs3wSd5rwBA.html',\n",
       "  'review_set_Tj2PiPfz_m0UjF6W_Iw0xg.html',\n",
       "  'review_set_blVwumFhigDEWsFLELjbIQ.html',\n",
       "  'review_set_aoJErIShJ_YLfN9YuUqBFg.html',\n",
       "  'review_set_1RKS8f8p2vwFDoEPz8q5fQ.html',\n",
       "  'review_set_CmWz9r3smcLzCq2jgjcNOQ.html',\n",
       "  'review_set_9CmO7-jtnIhYZ4dWfAOcBA.html',\n",
       "  'review_set_SJsHnUV1-V0Qm_8dMNpYMA.html',\n",
       "  'review_set_JbIi9WCtidvqdTt8l2KMQg.html',\n",
       "  'review_set_bDh9QsR-6vYCSF8fza_xHA.html',\n",
       "  'review_set_ib6H2in9Uiihz6eo-RVO3w.html',\n",
       "  'review_set_5aeFlQjZlwJhR7gA-9VMWA.html',\n",
       "  'review_set_TlTypn_xOScR62m3XDaF1g.html',\n",
       "  'review_set_VlnRyO52qL_FYc4rZwbGtA.html',\n",
       "  'review_set_fO5l51bSNbNJEHAskVH_kw.html',\n",
       "  'review_set_ok0KK4QQZbV6LGP_hllbGQ.html',\n",
       "  'review_set_9W8Sqz0T5tTmX2Ejr_37Iw.html',\n",
       "  'review_set_rYyJ4lljpej9HUFUwX6zHg.html',\n",
       "  'review_set_HHcuXarbh_kJQ95Yjsjp0Q.html',\n",
       "  'review_set_MqiSEnjf2cayulABkHZWyQ.html',\n",
       "  'review_set_A9QOcL9jnj8p4wGwM2ZDZQ.html',\n",
       "  'review_set_X5CS4_Mxz8yw1ERf5U8JfA.html',\n",
       "  'review_set_JVnycwsi4EoB0-pRN4lWXQ.html',\n",
       "  'review_set_gwdciABNnpQpwaficPhMGA.html',\n",
       "  'review_set_AEzBTGx4oJwJl6vsMjOjTg.html',\n",
       "  'review_set_nRjrPaKsc2CKvZA-I7Wc2w.html',\n",
       "  'review_set_dUCvi9m9a1BDCm7Ir0LiwQ.html',\n",
       "  'review_set_hcWabsa9YZDSCqrgwjPRKg.html',\n",
       "  'review_set_6-MRTlcOPHVSPofI2Au-VQ.html',\n",
       "  'review_set_FiXuDGt0rOqHCJncWEnQSA.html',\n",
       "  'review_set_RFPls34-sEgs-tFqKv837g.html',\n",
       "  'review_set_K7j0BqmmN6ZEZ4BHIgUcng.html',\n",
       "  'review_set_E19pQJkuBBnSpUn6kZ-dKQ.html',\n",
       "  'review_set_NJtFVBf66FUT0eNf_TdqoA.html',\n",
       "  'review_set_2V2CDWvF_VrdUKTHHAmdfA.html',\n",
       "  'review_set_2NsEac9xCBI05bo5l4yI7Q.html',\n",
       "  'review_set__j22dq3fnvkRnEHA8v-KVw.html',\n",
       "  'review_set_Uw3zWaUX2-w5ihZJJ4UTIw.html',\n",
       "  'review_set_J8MTMsETUK_0hfNEiiaOnA.html',\n",
       "  'review_set_o4WxEL-PaVsYATx1HXyunw.html',\n",
       "  'review_set_liYoXFyQEfxabxC0XCejpQ.html',\n",
       "  'review_set_Of8vddNT7RZhsklFtGEmlw.html',\n",
       "  'review_set_jVagN3c3ogpK7LvVOF9gdA.html',\n",
       "  'review_set_JVv5Ptd6st1zNQcT255Kew.html',\n",
       "  'review_set_Xb54JtWRz9GwdehkXah-Mg.html',\n",
       "  'review_set_61ZG2kyj_R7iux7yPrJIxg.html',\n",
       "  'review_set_ChwKt2_mPRc1AuLUv_VCbw.html',\n",
       "  'review_set_eheybDXvDpK7yDBf0P1NKA.html',\n",
       "  'review_set_HiQUSQcybN-cehXefdddtg.html',\n",
       "  'review_set_a3n9pyd5L1LBfkUATKT97Q.html',\n",
       "  'review_set_obnl740NovFhtyPB7Gn9AA.html',\n",
       "  'review_set_NHKW8hlTX3ra3C8R5LnhAA.html',\n",
       "  'review_set_8CgqRGtuqM0nxt8-dEnnmQ.html',\n",
       "  'review_set_p265EDZ1uSjqe-LDOXTkxA.html',\n",
       "  'review_set_zBPIK75F2XTAyM3tGM6Qug.html',\n",
       "  'review_set_1eZW5Yqdve7wuWaZt47NUw.html',\n",
       "  'review_set_0zm-EEKrF9BKcfmd8lDmcw.html',\n",
       "  'review_set__5eMIsRbyoY_aOw0jwIHHA.html',\n",
       "  'review_set_B5T9QeLjvvD3D_GJs1z66g.html',\n",
       "  'review_set_d9_VFWoells38JCx1QMGlw.html',\n",
       "  'review_set_zawyzKsuL1KNLPnmdFV58Q.html',\n",
       "  'review_set_QGA3Ryf6FNnFCBKeZPi-QA.html',\n",
       "  'review_set_JzUnNcpH6BQvEqGc81btiA.html',\n",
       "  'review_set_GCTVuBcDZZolh8ND4KSwWA.html',\n",
       "  'review_set_TlD7I9gNNNz9QsCyVDsyNQ.html',\n",
       "  'review_set_nmI_B5OyJkbj3J-5g9rfsA.html',\n",
       "  'review_set__2jq1pu7XuKFylIsJZkc1A.html',\n",
       "  'review_set_QHYJCG4ACxA9NOiPs81qug.html',\n",
       "  'review_set_bpEc0zyBoRO9OQCeFr7iIA.html',\n",
       "  'review_set_MF_GMYOomIa_-95YwExLDw.html',\n",
       "  'review_set_ZctI2OJeq2L959n0IxiVnw.html',\n",
       "  'review_set_l3Z7GQu3wVjafWEo-Nj48g.html',\n",
       "  'review_set_IO_88a--KH7Ylf8sGE9aTA.html',\n",
       "  'review_set_y7NCJgSXiuVllPc6IK5Lsw.html',\n",
       "  'review_set_97v2MTa11QILaeZRrqpInw.html',\n",
       "  'review_set_qUraZNprg0Vk4PmjaPQREQ.html',\n",
       "  'review_set_2187MlQ_S3pqcTSAdAgyKw.html',\n",
       "  'review_set_--KQsXc-clkO7oHRqGzSzg.html',\n",
       "  'review_set_YMHzr9_Fx44Pn9cct3wRpg.html',\n",
       "  'review_set_2QO3Dz-DJQoAlH9N14MI1A.html',\n",
       "  'review_set_mCTMLN8vAD8PlVPM6XDXpA.html',\n",
       "  'review_set_9QwivVrLDeODfZJTkLBtsA.html',\n",
       "  'review_set_UxZGTQVs5J6Yd_JZm4RHNQ.html',\n",
       "  'review_set_ZsDH0sPXgAduwrp_ORtfxQ.html',\n",
       "  'review_set_Tih2YKMvA5uHSXUCJSSvxA.html',\n",
       "  'review_set_YOyI2UBuFREJn78uGdQHvA.html',\n",
       "  'review_set_f_pQrdSNn9SuY9LrFbo0Kg.html',\n",
       "  'review_set_YSdxFINzbpbwX-RtPd1FxQ.html',\n",
       "  'review_set_9UzrPAKKnwao1GbcaBoxtQ.html',\n",
       "  'review_set_OpR1dL0_rt27L0JZ96Jz5A.html',\n",
       "  'review_set_E-dL1nTtJmItxDeeb4ZASA.html',\n",
       "  'review_set_YkjpubtHR6K1ovAeZeh2ow.html',\n",
       "  'review_set_8Oy-N1HUUUJBv9Ta_8O_fA.html',\n",
       "  'review_set_A9NCnsENkLOXPGg8GGTcjQ.html',\n",
       "  'review_set_vbpFWZE2CtP_rMHr_FtUcA.html',\n",
       "  'review_set_wuIptKfkWh1omiOJUy2DSA.html',\n",
       "  'review_set_rxflse3kelxyCQQOJEld7A.html',\n",
       "  'review_set_D6wfcB7JFLetcJ053k13ug.html',\n",
       "  'review_set_PrQxBBWVvZRNY1yPjYhlEg.html',\n",
       "  'review_set_GTzQ2-uJAelYk0tLFHaJHw.html',\n",
       "  'review_set_-8O4kt8AIRhM3OUxt-pWLg.html',\n",
       "  'review_set_FNEfDBCvCcsKvw6JeQawAw.html',\n",
       "  'review_set_OX-hZ2H7XD242njkjDnX3A.html',\n",
       "  'review_set_s1Yzi8r52EqJMakuTJsI-Q.html',\n",
       "  'review_set_UyqZIgKLEfXON8xVD4NxHQ.html'],\n",
       " ['review_set_semizMsHqDfT_kOXQITSOA.html',\n",
       "  'review_set_WWTQUb_NUAd5Q_k7jq2r0A.html',\n",
       "  'review_set_6Or07nY9iiSSJf-Kaf0GMw.html',\n",
       "  'review_set_4l5SRJkmjrRkYVxWNVwFsg.html',\n",
       "  'review_set_TpwCjlKsdYjLsvlYhKGt4g.html',\n",
       "  'review_set_fRDNQyptBl3c-AggfwfMCg.html',\n",
       "  'review_set_kownTVHHvOKawjjmO_WkJw.html',\n",
       "  'review_set_2nqMgNGA0ejmpYFuH77xAA.html',\n",
       "  'review_set_bXCWON2Me0o86qvAb-XZPQ.html',\n",
       "  'review_set_kBIF4PFTbaf7s8sx8buREg.html',\n",
       "  'review_set_bR23zlcVESo_vnBlCLBpwQ.html',\n",
       "  'review_set_vt2NMSbKpVN0r0HI6Az4bw.html',\n",
       "  'review_set_rIRzDHgiPPivvjfySMeGtA.html',\n",
       "  'review_set_RfniramWeD6QY-2WsKAhvg.html',\n",
       "  'review_set_AXZ8RTf83-bnNJjdeMSqng.html',\n",
       "  'review_set_eH96MBK-EAcC0Q-lYqIb8Q.html',\n",
       "  'review_set_IhNASEZ3XnBHmuuVnWdIwA.html',\n",
       "  'review_set_KMNkriayvWEwdZPcmr1faA.html',\n",
       "  'review_set_Hza9Lq1vqA4yTElotZVTDA.html',\n",
       "  'review_set_LTtXEZOUVcbd4sZ3dQwg9A.html',\n",
       "  'review_set_-OhQws_Si3YOYDfm6DilxA.html',\n",
       "  'review_set_YcXp3IMt3qgmCH5-oyXuOg.html',\n",
       "  'review_set_eaIVcOTMOeb8U2inN3UTzg.html',\n",
       "  'review_set_1ziYClLmdE0CdHqlt9H1dw.html',\n",
       "  'review_set_YSPwC1polC7TOwP1kkxkjg.html',\n",
       "  'review_set_vSHpYNhhUrKwjT8fYTDwMw.html',\n",
       "  'review_set_ynHT0Mo4878oDHbTb4nFlw.html',\n",
       "  'review_set_DT35ycaAVzbq83vVGRCoIQ.html',\n",
       "  'review_set_g9i9xFh9HtPWNLMB3ru3ug.html',\n",
       "  'review_set_f7T0Q1kbsSlbqB2vMdNrCw.html',\n",
       "  'review_set_9pp4WAPcvgwA_3FsHmMXBA.html',\n",
       "  'review_set_OHAMMo1sdmvFw9SsS-AZQg.html',\n",
       "  'review_set_FdShh2s9nfJ1XwXqUqWrrA.html',\n",
       "  'review_set_kajp1s8tu9B59OyyHoBExg.html',\n",
       "  'review_set_axZSFXdaJ0KE5auPwBllRQ.html',\n",
       "  'review_set_eZiDoYkp9-OARMpamfljIw.html',\n",
       "  'review_set_kZspuWnM0Y-Losvk2Rl0lA.html',\n",
       "  'review_set_AY3Cxky3L3aNbRo_o4YRgg.html',\n",
       "  'review_set_c_GeUPI0qjilmWp8QNK-oQ.html',\n",
       "  'review_set_EjklATg4aNBWINenUySCgQ.html',\n",
       "  'review_set_Z69RXJ2o2pNb6aF8ZKx1WA.html',\n",
       "  'review_set_8XoDXN2DKmQGJHZhkQbJ9A.html',\n",
       "  'review_set_4Ej5FiDtDluJlz4O6pZkDQ.html',\n",
       "  'review_set_W8Y31HuW9fe9j1SVqeT21Q.html',\n",
       "  'review_set_ddlnpDxGDDxGGoG_dVXwiw.html',\n",
       "  'review_set_Dm9p-2DX-3ID90_DsLHauQ.html',\n",
       "  'review_set_8O7kT54vg422y-eoj-5Waw.html',\n",
       "  'review_set_p5rpYtxS5xPQjt3MXYVEwA.html',\n",
       "  'review_set_s-aGceIVH-XrIWdC4Jkbeg.html',\n",
       "  'review_set_phndcbS62E6emuRZDJmoQw.html',\n",
       "  'review_set_VXIOTZb0vghuj9t7YSDWLA.html',\n",
       "  'review_set_1gBBumY1aO5x4ybRYWRacA.html',\n",
       "  'review_set_YSUPAkyni4qpcHfrMOAEww.html',\n",
       "  'review_set_lNmUmSwZtD0JMR5wln8DTQ.html',\n",
       "  'review_set_RgDH0NZHGT8i6gdklxp0GQ.html',\n",
       "  'review_set_CJ0pTLbWP02jiirzuWJCKw.html',\n",
       "  'review_set_zFR99jgMi-qzaJXIx8MXHA.html',\n",
       "  'review_set_p94oHG7K9BqcMVVOlkzhPg.html',\n",
       "  'review_set_RdOz1AUEYmt_2hJm4A_YFQ.html',\n",
       "  'review_set_sAEFh7e7fY-W2gMWSbIAWQ.html',\n",
       "  'review_set_-BmqghX1sv7sgsxOIS2yAg.html',\n",
       "  'review_set_AED5R0yXVzJvWAGEqWBG4A.html',\n",
       "  'review_set_PgzUKqJW8IkgGESl_J9vbw.html',\n",
       "  'review_set_qAHjfQqGJFClh4wHpbzHSA.html',\n",
       "  'review_set_wbia2cGn5pUSCZGLYTu0kw.html',\n",
       "  'review_set_vx2T3IspTj6Opxjn95xWRA.html',\n",
       "  'review_set_hjjJFekF7f3j9Ayy1KPjzg.html',\n",
       "  'review_set_uhI7-7K_DSQhF_-t04gIqw.html',\n",
       "  'review_set_FBd6q_qzEFixvhV3KdzvJw.html',\n",
       "  'review_set_WeWNrDARpYT_m7tnfrXRRw.html',\n",
       "  'review_set_pTCyou_1EKkm1MUeejFLag.html',\n",
       "  'review_set_9uUfqLdfV-1BFAJQYEyEYA.html',\n",
       "  'review_set_PVeabNks9iMxt5C12AR3cA.html',\n",
       "  'review_set_EA7NU-fwH9VtCCVd3yO1fg.html',\n",
       "  'review_set_ME9Ap4lox7bJ8vg2GcySLA.html',\n",
       "  'review_set_TrBwrc6P_W_XTsphbvuk9g.html',\n",
       "  'review_set_aZgOdGn3O_fP2OUr5ATqiw.html',\n",
       "  'review_set_fPISsMIXOYZP1uins2Bwyw.html',\n",
       "  'review_set_ucZKyX_6Y12T66BKrNvpbg.html',\n",
       "  'review_set_VaQhUU3P4Z5A3oYPsEMbkw.html',\n",
       "  'review_set_9g0JuC-_vx35T0m3lidwBw.html',\n",
       "  'review_set_idM0hDe_Pp2IeYgH0DIIBw.html',\n",
       "  'review_set_SJo_IjvzdRtCvZVN0cbrRQ.html',\n",
       "  'review_set_5RqU2YARBU69d9zK6h-fXg.html',\n",
       "  'review_set_iYdJGoTt3i2UTOnj6zzUYQ.html',\n",
       "  'review_set_jp6wKEW6AmSJrz9TtYSx4g.html',\n",
       "  'review_set_0C6uuZBD7xKS-uucgwoyQw.html',\n",
       "  'review_set_OVkOzOOq6AeZ7z7UAWiTDg.html',\n",
       "  'review_set_cQK9M2JAwETQnnBoYyua5A.html',\n",
       "  'review_set_5FVTSx9CIzvA3i3AOVaj8g.html',\n",
       "  'review_set_8p_h4EUe27Tf-d05dyy9_w.html',\n",
       "  'review_set_tnE2pii5EM-9u6iAA1lPyw.html',\n",
       "  'review_set_fpADWrjAQwJJrBMBdBCvJg.html',\n",
       "  'review_set_A4zKbHT1udV4gcd37HEuZQ.html',\n",
       "  'review_set_4jsNKfrbgssqKObCzj05hw.html',\n",
       "  'review_set_XBDe0pFAw1B32tpAQN5t2g.html'],\n",
       " ['review_set_eh_tMFEJMZzEM3swCqUNJA.html',\n",
       "  'review_set_3ufeMJ2DTf1riU4Bi-gryg.html',\n",
       "  'review_set_KjjQGzu0241FbeERM32dpQ.html',\n",
       "  'review_set_t8Mo-KiivPqXbFKJmakj4w.html',\n",
       "  'review_set_K6yaRzeAygK6Ha_YJnwIbg.html',\n",
       "  'review_set_VYaXjNs2Nxp-TKJRH1L25A.html',\n",
       "  'review_set_E8t19sCra4kctooZMitsZw.html',\n",
       "  'review_set_drjYqhKXgOfW9OYCwQEQfQ.html',\n",
       "  'review_set_6q3D1RTChNltJviipr1CPA.html',\n",
       "  'review_set_zfxjGCMSY6CRTrcVtpmJYA.html',\n",
       "  'review_set_CGv-5oD6zM64pfbcOnVY1w.html',\n",
       "  'review_set_sLQUMUETOruStVknkxxEtQ.html',\n",
       "  'review_set_nxXIBbN1yqSQLSD6Dv-D_w.html',\n",
       "  'review_set_JFpD5UJjopEm4BvFtmNLjw.html',\n",
       "  'review_set_vEwnnC_Qwuk0KbcnkoTbyw.html',\n",
       "  'review_set_RHyihD5lZIXXXwxFpPphmw.html',\n",
       "  'review_set_XAw6mpKbTAgjMdxCFQ4UxA.html',\n",
       "  'review_set_0Z5501L4Jh2KBIvMHzFgtg.html',\n",
       "  'review_set_DmFO4PabO2CoCOStOBqkAg.html',\n",
       "  'review_set_319J-Mc0VAoPw8UrbtARVQ.html',\n",
       "  'review_set_FVjnVMn1zuo_yRa9Xxl4Xw.html',\n",
       "  'review_set_bmBlZrRCSF9EQ1GZbn44uA.html',\n",
       "  'review_set_BmJdcOr-XOyM_Otc3wMraQ.html',\n",
       "  'review_set_d8SWJ-jqoQosKans_IF_9A.html',\n",
       "  'review_set_MdtsA9oE2aFEYLHqmKfp9w.html',\n",
       "  'review_set_XxwrhGSDOZbjGkuSueDSpQ.html',\n",
       "  'review_set_Kk-dEqWvY3auFM7AOAs8eg.html',\n",
       "  'review_set_ACukMRSxEraQmQqjWsvKPQ.html',\n",
       "  'review_set_G0pxLBptAsVyJHfGQMIEJA.html',\n",
       "  'review_set_O9SiaLm_Ql0FKvVa2Ua5xA.html',\n",
       "  'review_set_-f0zCpKvtNniDhLASWcxcw.html',\n",
       "  'review_set_Q8Yn4ihQK45PMSrfiX2KSQ.html',\n",
       "  'review_set_-hq1qB-TIOUl13gKMiGQMA.html',\n",
       "  'review_set_xOBGRcwixDTyUJJmGYIxDw.html',\n",
       "  'review_set_pKOy7-pP-BdSVcCrtQo_ww.html',\n",
       "  'review_set_BBIJ5hPG7nIY7CFxcJnKVQ.html',\n",
       "  'review_set_MaTxNkWK2F6zaDG8mi9hbw.html',\n",
       "  'review_set_CXHujlzd-_2QFPw53Z_LZQ.html',\n",
       "  'review_set_lBVg3le33TxYMKKO-4v8PQ.html',\n",
       "  'review_set_5ZBaDWQD5nAw0j1XwOvf3w.html',\n",
       "  'review_set_6zRVeLNVJOJCuYDdY_lsgQ.html',\n",
       "  'review_set_FZxWRbl8m7hal19Gsc8BKA.html',\n",
       "  'review_set_momwgw47Pkkbz9ciHQLpsw.html',\n",
       "  'review_set_5lsoilXZazQhacUoELPdtA.html',\n",
       "  'review_set_tYAOVeGuGKk78TyzQzVcpg.html',\n",
       "  'review_set_XB4NyBeDgPYmmfK_23kl7w.html',\n",
       "  'review_set_6kLh-h9WffSJRdAKBkhOrg.html',\n",
       "  'review_set_p0Ssn1VF_YtZzdmf1sQJuQ.html',\n",
       "  'review_set_qFlM7c2kBimRLCF_VJ8Qhw.html',\n",
       "  'review_set_PQOaNdbwkKQ81eTESzG1FA.html',\n",
       "  'review_set_0010xnFOCyJZeMAuTtiv5w.html',\n",
       "  'review_set_quNsF2gdqKulu5D6pvZI0w.html',\n",
       "  'review_set_gJud4JjLUyEwtUSKslsnjg.html',\n",
       "  'review_set_91hRbV81f0lA84H9FLnt2w.html',\n",
       "  'review_set_Ubod0uoQANXIr7LvpydR_A.html',\n",
       "  'review_set_3WAqlDxxhR8JjEOmU2E0Rg.html',\n",
       "  'review_set_R9IC8oycIfrPTYdd9FHhig.html',\n",
       "  'review_set_xQlQb8yzYO4O5F39OuR7gA.html',\n",
       "  'review_set_fj8L3IWG9XP_RcVEbI-uzw.html',\n",
       "  'review_set_VVG7z0fNQ2Ok0IvI8WBK1A.html',\n",
       "  'review_set__FJjh7stbxPP7Tz7HzyznQ.html',\n",
       "  'review_set_pelIj-giNaZe-nfoNfYHgw.html',\n",
       "  'review_set_PuN81O1J9Ka6XxsldtXFtA.html',\n",
       "  'review_set_4ukcDkudwIShJHpR5l5JqA.html',\n",
       "  'review_set_-ceYX-NI-iqcLOX9tlIcEw.html',\n",
       "  'review_set_zY7c7GNmP4o2dCWvpNaj8A.html',\n",
       "  'review_set_T-p14DRsdJ2luGX3ojztLQ.html',\n",
       "  'review_set_fyqjibJc4jZSiNVDlaZ2Ug.html',\n",
       "  'review_set_pvfJAey68z12gBwfSIP7Vw.html',\n",
       "  'review_set_S90RSdPuh2SxSDJFj574eQ.html',\n",
       "  'review_set_SIYpdFCOWEJLRnP2WGjbGg.html',\n",
       "  'review_set_EtdqNjDFx0Lm8h_0mCdfVg.html',\n",
       "  'review_set_IYsyXxSEB4gCEO7zG_YB4g.html',\n",
       "  'review_set_4bed2egQTt4FMu3z9SEshQ.html',\n",
       "  'review_set_ONC6M3lNXfMbEjuSLc1slA.html',\n",
       "  'review_set_l7ajNVtV_JmXOop3h0gpKw.html',\n",
       "  'review_set_inuZzNhcBBv-hPshzuXKaQ.html',\n",
       "  'review_set_LR950RCdjXZSBTL0uqx0fA.html',\n",
       "  'review_set_vfVy-2M2K5xSl0g2dpWBZA.html',\n",
       "  'review_set_ChspW4GPbl1B3GEhLSRIDQ.html',\n",
       "  'review_set_EI1JrGwgVzgX_1V9wGiuOg.html',\n",
       "  'review_set_7GKEZbS-xFmCxBSnX8ttNg.html',\n",
       "  'review_set_RD-PqIwfJdprEnPwS9GS8Q.html',\n",
       "  'review_set_n90YPt4GBGHESgGPCBES_A.html',\n",
       "  'review_set_d5o3VFGMw_BFLPRwNrRkTA.html',\n",
       "  'review_set_6xVjiYjoMdeZ4lLb5apQsg.html',\n",
       "  'review_set_L8QQDrWff_uPSzU45gcSvQ.html',\n",
       "  'review_set_x_1BhmQNn37BShhqlfNRmQ.html',\n",
       "  'review_set_rneYUjMuC8JJIFhJpnG_dQ.html',\n",
       "  'review_set__SleE-VoYLE4IKOdZikHIg.html',\n",
       "  'review_set_ovF4z49i3LbU4iSxgCmopQ.html',\n",
       "  'review_set_dd4PG9yjGOiv4EQG7D5BTg.html',\n",
       "  'review_set_Po8dR8oj4INZaNRe2-TLQw.html',\n",
       "  'review_set_AxoD6TJc_tIJUIXYiBFjAw.html',\n",
       "  'review_set_xuZ_5uEAerrmu7r_NxGAZQ.html',\n",
       "  'review_set_YvgOq2avx79tLXw6s_eBSg.html',\n",
       "  'review_set_LCKSewKJPGvCeyO6mw5abw.html',\n",
       "  'review_set_GpfrnYOBZcH2XsHcbNflbw.html',\n",
       "  'review_set_uTC7YbsMJJnTFQk7nUorOA.html',\n",
       "  'review_set_PX-PYOxCnwLJogxktXhsBA.html',\n",
       "  'review_set_YSo6YUJiXbST0ZFGrpxuBg.html',\n",
       "  'review_set_K1t5YQoC1G7lIxWvNpCxng.html',\n",
       "  'review_set_sEE_H7L-qjrtoHjwWiqpbQ.html',\n",
       "  'review_set_5Xjd6NJv-thth9ec8Cwsjg.html',\n",
       "  'review_set_h9PXbwY6E3LINCYan2zcsg.html',\n",
       "  'review_set_fSw3ztKOSNhEw36gr4MxYQ.html',\n",
       "  'review_set_GKtVASxg9ZafsNEQnFsipQ.html',\n",
       "  'review_set_yNUQ_B_xz_HGcWXQYMRZwg.html',\n",
       "  'review_set_u8HKpaTN8M1hzKdonx50kA.html',\n",
       "  'review_set_urGVX53RUo01fxKQnVYZFQ.html',\n",
       "  'review_set_o6N9CoOhiM6DG33VlHamLQ.html',\n",
       "  'review_set_jF2__R8dk6wrfELxHx5LOA.html',\n",
       "  'review_set_V-BdZIQR0n08aSBNPXtOjQ.html',\n",
       "  'review_set_RBFq3wAefh7SLTS-gE01kg.html',\n",
       "  'review_set_vUsPxHrZqRzHkCj3RPzjFQ.html',\n",
       "  'review_set_BBfY4zTgtg9OdCigiQohRQ.html',\n",
       "  'review_set__ZBzbuRsbwLwHZ0wUcYkCQ.html',\n",
       "  'review_set_68DBEQq7I0lqlY9bMQdb-Q.html',\n",
       "  'review_set_CuCG4O8bYfGuRkET0NIUiA.html',\n",
       "  'review_set_BnYadh_BSwBV4z-acodXNQ.html',\n",
       "  'review_set_Rmyqn_pUyFpjPhwaIkhJjw.html',\n",
       "  'review_set_qkVPytomhxm5g0dMEH2xpQ.html',\n",
       "  'review_set_ckbxCijGN-zUK_QmCPoGcQ.html',\n",
       "  'review_set_cKhtfT5MkU8aQ6_RVhZsRQ.html',\n",
       "  'review_set_nkhLZJXqIwYKsldbRFAqaQ.html',\n",
       "  'review_set_KgFmLr-HZeUZc7nsjMkSRw.html',\n",
       "  'review_set_lAi7njJ_vqL9bt1CCdF7HQ.html',\n",
       "  'review_set_nz_K4zFYAfFXxqMGUyiadg.html',\n",
       "  'review_set_fZQ3QjGMRELHG9f0WnN8vw.html',\n",
       "  'review_set_V6bNyyJqc7AYSXGHcrd6IA.html',\n",
       "  'review_set_u_iVzxxSAc--cDLtOf2HZA.html',\n",
       "  'review_set_PEeZMDZEr_P01Kub-ftluw.html',\n",
       "  'review_set_vP-TuPr7fZ107L8Z4JommQ.html',\n",
       "  'review_set_Bj2JoTfsqjPyIasM2lvtGg.html',\n",
       "  'review_set_j_-AlmCecYEtIl-mjZaKqA.html',\n",
       "  'review_set_JpheWMtV0VLqoNngrxzlBw.html',\n",
       "  'review_set_tUqg3_lvE4tAkKSOZdof1g.html',\n",
       "  'review_set_EQKvMqW6TgbWiHzwS-HH-w.html',\n",
       "  'review_set_VAC5qtRpODB4S6aO2GkEpg.html',\n",
       "  'review_set_2cWINwghYpMerikeeu5k0g.html',\n",
       "  'review_set_rai7E_s43a3-oXKJYXHhIw.html',\n",
       "  'review_set_TxX5L1gvSUtz2zmCbOvS3w.html',\n",
       "  'review_set_P8UM0ChL_EikLini6Alv6w.html',\n",
       "  'review_set_kOvxt1mTPZXdxBrIpD2fpw.html',\n",
       "  'review_set_Bhqb_2tRCcgesaxCuQlkow.html',\n",
       "  'review_set_g6VqLCFfd4avtChEt-vMlw.html',\n",
       "  'review_set_fYJ8Qh43y3XARmpUqSIYKg.html',\n",
       "  'review_set_yfkVdJH71Bj-Lil3cWfW4w.html',\n",
       "  'review_set_-XFoc63x6gWzR_HQJBz_hA.html',\n",
       "  'review_set_w1MY8o5LDRJ13k9vT3V8UA.html',\n",
       "  'review_set_qpSUknlPxSLmGnvfEaw4bA.html',\n",
       "  'review_set_HFFN5YvKTb6ERYYLS3YnoQ.html',\n",
       "  'review_set_C7IzXAlvlPShszL-ERZivQ.html',\n",
       "  'review_set_K80anqDnRDkGWLWwgpTfag.html',\n",
       "  'review_set_JNQ7bk8gZup81fFT_awy7Q.html',\n",
       "  'review_set_VxLMDS0Tb8CdD4jag6B2lQ.html',\n",
       "  'review_set_r83fWVZq4q8G6EwdtCopkg.html',\n",
       "  'review_set_DvbHpUGt7DfuZQhJ7UJvdQ.html',\n",
       "  'review_set_RPBQD0YUtWrv9bRPoOgb0g.html']]"
      ]
     },
     "execution_count": 366,
     "metadata": {},
     "output_type": "execute_result"
    }
   ],
   "source": [
    "mycategories"
   ]
  },
  {
   "cell_type": "code",
   "execution_count": 367,
   "metadata": {},
   "outputs": [],
   "source": [
    "#using the function to create a dataframe for automotive category \n",
    "df_automotive = createdf(mycategories[0])  # since [0] is for automotive"
   ]
  },
  {
   "cell_type": "code",
   "execution_count": 368,
   "metadata": {},
   "outputs": [
    {
     "data": {
      "text/html": [
       "<div>\n",
       "<style scoped>\n",
       "    .dataframe tbody tr th:only-of-type {\n",
       "        vertical-align: middle;\n",
       "    }\n",
       "\n",
       "    .dataframe tbody tr th {\n",
       "        vertical-align: top;\n",
       "    }\n",
       "\n",
       "    .dataframe thead th {\n",
       "        text-align: right;\n",
       "    }\n",
       "</style>\n",
       "<table border=\"1\" class=\"dataframe\">\n",
       "  <thead>\n",
       "    <tr style=\"text-align: right;\">\n",
       "      <th></th>\n",
       "      <th>Reviews</th>\n",
       "      <th>Rating</th>\n",
       "    </tr>\n",
       "  </thead>\n",
       "  <tbody>\n",
       "    <tr>\n",
       "      <td>0</td>\n",
       "      <td>The man that was working tonight (8-12-17) was...</td>\n",
       "      <td>Negative</td>\n",
       "    </tr>\n",
       "    <tr>\n",
       "      <td>1</td>\n",
       "      <td>Chris is a very rude person. Gave me an attitu...</td>\n",
       "      <td>Negative</td>\n",
       "    </tr>\n",
       "    <tr>\n",
       "      <td>2</td>\n",
       "      <td>One of my favorite gas station to stop at. The...</td>\n",
       "      <td>Positive</td>\n",
       "    </tr>\n",
       "    <tr>\n",
       "      <td>3</td>\n",
       "      <td>Oh thank Heaven for Seven Eleven! I don't know...</td>\n",
       "      <td>Negative</td>\n",
       "    </tr>\n",
       "    <tr>\n",
       "      <td>4</td>\n",
       "      <td>Five stars because of the guy who works weekda...</td>\n",
       "      <td>Positive</td>\n",
       "    </tr>\n",
       "    <tr>\n",
       "      <td>5</td>\n",
       "      <td>I had the best experience here!!!!!! All the e...</td>\n",
       "      <td>Positive</td>\n",
       "    </tr>\n",
       "    <tr>\n",
       "      <td>6</td>\n",
       "      <td>My objective with this shop was to find a good...</td>\n",
       "      <td>Negative</td>\n",
       "    </tr>\n",
       "    <tr>\n",
       "      <td>7</td>\n",
       "      <td>Absolute worst service ever. Went in for oil c...</td>\n",
       "      <td>Negative</td>\n",
       "    </tr>\n",
       "    <tr>\n",
       "      <td>8</td>\n",
       "      <td>Love love love their customer service. I come ...</td>\n",
       "      <td>Positive</td>\n",
       "    </tr>\n",
       "    <tr>\n",
       "      <td>9</td>\n",
       "      <td>I took my friend to this shop to get her oil c...</td>\n",
       "      <td>Negative</td>\n",
       "    </tr>\n",
       "  </tbody>\n",
       "</table>\n",
       "</div>"
      ],
      "text/plain": [
       "                                             Reviews    Rating\n",
       "0  The man that was working tonight (8-12-17) was...  Negative\n",
       "1  Chris is a very rude person. Gave me an attitu...  Negative\n",
       "2  One of my favorite gas station to stop at. The...  Positive\n",
       "3  Oh thank Heaven for Seven Eleven! I don't know...  Negative\n",
       "4  Five stars because of the guy who works weekda...  Positive\n",
       "5  I had the best experience here!!!!!! All the e...  Positive\n",
       "6  My objective with this shop was to find a good...  Negative\n",
       "7  Absolute worst service ever. Went in for oil c...  Negative\n",
       "8  Love love love their customer service. I come ...  Positive\n",
       "9  I took my friend to this shop to get her oil c...  Negative"
      ]
     },
     "execution_count": 368,
     "metadata": {},
     "output_type": "execute_result"
    }
   ],
   "source": [
    "df_automotive.head(10)"
   ]
  },
  {
   "cell_type": "code",
   "execution_count": 369,
   "metadata": {},
   "outputs": [],
   "source": [
    "#creating the dataframe for the category Cafes\n",
    "df_cafes = createdf(mycategories[1])\n"
   ]
  },
  {
   "cell_type": "code",
   "execution_count": 370,
   "metadata": {},
   "outputs": [
    {
     "data": {
      "text/html": [
       "<div>\n",
       "<style scoped>\n",
       "    .dataframe tbody tr th:only-of-type {\n",
       "        vertical-align: middle;\n",
       "    }\n",
       "\n",
       "    .dataframe tbody tr th {\n",
       "        vertical-align: top;\n",
       "    }\n",
       "\n",
       "    .dataframe thead th {\n",
       "        text-align: right;\n",
       "    }\n",
       "</style>\n",
       "<table border=\"1\" class=\"dataframe\">\n",
       "  <thead>\n",
       "    <tr style=\"text-align: right;\">\n",
       "      <th></th>\n",
       "      <th>Reviews</th>\n",
       "      <th>Rating</th>\n",
       "    </tr>\n",
       "  </thead>\n",
       "  <tbody>\n",
       "    <tr>\n",
       "      <td>0</td>\n",
       "      <td>Pros: Lots of items you would not expect from ...</td>\n",
       "      <td>Positive</td>\n",
       "    </tr>\n",
       "    <tr>\n",
       "      <td>1</td>\n",
       "      <td>Best egg-tarts in town! There's really not muc...</td>\n",
       "      <td>Positive</td>\n",
       "    </tr>\n",
       "    <tr>\n",
       "      <td>2</td>\n",
       "      <td>I've been to ABC Bakery a few times since I re...</td>\n",
       "      <td>Negative</td>\n",
       "    </tr>\n",
       "    <tr>\n",
       "      <td>3</td>\n",
       "      <td>FYI, Closed Monday's New ownership for about 1...</td>\n",
       "      <td>Negative</td>\n",
       "    </tr>\n",
       "    <tr>\n",
       "      <td>4</td>\n",
       "      <td>The inside may not look like much but they mak...</td>\n",
       "      <td>Positive</td>\n",
       "    </tr>\n",
       "  </tbody>\n",
       "</table>\n",
       "</div>"
      ],
      "text/plain": [
       "                                             Reviews    Rating\n",
       "0  Pros: Lots of items you would not expect from ...  Positive\n",
       "1  Best egg-tarts in town! There's really not muc...  Positive\n",
       "2  I've been to ABC Bakery a few times since I re...  Negative\n",
       "3  FYI, Closed Monday's New ownership for about 1...  Negative\n",
       "4  The inside may not look like much but they mak...  Positive"
      ]
     },
     "execution_count": 370,
     "metadata": {},
     "output_type": "execute_result"
    }
   ],
   "source": [
    "df_cafes.head(5)"
   ]
  },
  {
   "cell_type": "code",
   "execution_count": 371,
   "metadata": {},
   "outputs": [],
   "source": [
    "#creating the dataframe for the category Fashion\n",
    "df_fashion = createdf(mycategories[2])"
   ]
  },
  {
   "cell_type": "code",
   "execution_count": 372,
   "metadata": {},
   "outputs": [
    {
     "data": {
      "text/html": [
       "<div>\n",
       "<style scoped>\n",
       "    .dataframe tbody tr th:only-of-type {\n",
       "        vertical-align: middle;\n",
       "    }\n",
       "\n",
       "    .dataframe tbody tr th {\n",
       "        vertical-align: top;\n",
       "    }\n",
       "\n",
       "    .dataframe thead th {\n",
       "        text-align: right;\n",
       "    }\n",
       "</style>\n",
       "<table border=\"1\" class=\"dataframe\">\n",
       "  <thead>\n",
       "    <tr style=\"text-align: right;\">\n",
       "      <th></th>\n",
       "      <th>Reviews</th>\n",
       "      <th>Rating</th>\n",
       "    </tr>\n",
       "  </thead>\n",
       "  <tbody>\n",
       "    <tr>\n",
       "      <td>0</td>\n",
       "      <td>Looking for the best tactical supplies? Look n...</td>\n",
       "      <td>Positive</td>\n",
       "    </tr>\n",
       "    <tr>\n",
       "      <td>1</td>\n",
       "      <td>Stood in line like an idiot for 5 minutes to p...</td>\n",
       "      <td>Negative</td>\n",
       "    </tr>\n",
       "    <tr>\n",
       "      <td>2</td>\n",
       "      <td>Another great store with quality Equipment. Th...</td>\n",
       "      <td>Positive</td>\n",
       "    </tr>\n",
       "    <tr>\n",
       "      <td>3</td>\n",
       "      <td>The Problem with this store is not that they h...</td>\n",
       "      <td>Positive</td>\n",
       "    </tr>\n",
       "    <tr>\n",
       "      <td>4</td>\n",
       "      <td>Great place! We went in at almost closing time...</td>\n",
       "      <td>Positive</td>\n",
       "    </tr>\n",
       "  </tbody>\n",
       "</table>\n",
       "</div>"
      ],
      "text/plain": [
       "                                             Reviews    Rating\n",
       "0  Looking for the best tactical supplies? Look n...  Positive\n",
       "1  Stood in line like an idiot for 5 minutes to p...  Negative\n",
       "2  Another great store with quality Equipment. Th...  Positive\n",
       "3  The Problem with this store is not that they h...  Positive\n",
       "4  Great place! We went in at almost closing time...  Positive"
      ]
     },
     "execution_count": 372,
     "metadata": {},
     "output_type": "execute_result"
    }
   ],
   "source": [
    "df_fashion.head(5)"
   ]
  },
  {
   "cell_type": "markdown",
   "metadata": {},
   "source": [
    "### Preprocessing"
   ]
  },
  {
   "cell_type": "code",
   "execution_count": 356,
   "metadata": {},
   "outputs": [],
   "source": [
    "def preprocessing(text):\n",
    "    text['Reviews'] = text['Reviews'].str.lower() #converting to lowercase\n",
    "    #text['Reviews'].re.sub(r'\\b\\w{1,1}\\b', '') \n",
    "    \n",
    "    #excluding words less than length 2\n",
    "    text['Reviews'] = text['Reviews'].str.split().map(lambda sl: \" \".join(s for s in sl if len(s)>2))\n",
    "    \n",
    "    text['Reviews'] = text['Reviews'].str.replace(r'[ ](?=[ ])|[^-_,A-Za-z0-9 ]+', \"\") #excluding all special characters\n",
    "    \n",
    "    text['Reviews'] = text['Reviews'].str.replace(r'\\d+','') #excluding numbers\n",
    "    \n",
    "    text['tokens'] = text.apply(lambda row: nltk.word_tokenize(row['Reviews']), axis = 1) #creating tokens out of reviews\n",
    "    \n",
    "    #removing all stopwords from reviews\n",
    "    stopwordslist = set(stopwords.words('english'))\n",
    "    text['tokens'] = text['tokens'].apply(lambda a:[word for word in a if word not in stopwordslist]) \n",
    "    \n",
    "    stemmer = PorterStemmer()\n",
    "    text['tokens'] = text['tokens'].apply(lambda a :[stemmer.stem(b) for b in a]) #stemming\n",
    "    \n",
    "    text['processed_reviews'] = text['tokens'].str.join(' ')\n",
    "    return text\n",
    "    \n",
    "    "
   ]
  },
  {
   "cell_type": "code",
   "execution_count": 101,
   "metadata": {},
   "outputs": [
    {
     "name": "stderr",
     "output_type": "stream",
     "text": [
      "[nltk_data] Downloading package stopwords to\n",
      "[nltk_data]     C:\\Users\\apurv\\AppData\\Roaming\\nltk_data...\n",
      "[nltk_data]   Unzipping corpora\\stopwords.zip.\n"
     ]
    },
    {
     "data": {
      "text/plain": [
       "True"
      ]
     },
     "execution_count": 101,
     "metadata": {},
     "output_type": "execute_result"
    }
   ],
   "source": [
    "#nltk.download('stopwords')"
   ]
  },
  {
   "cell_type": "code",
   "execution_count": 113,
   "metadata": {},
   "outputs": [
    {
     "name": "stderr",
     "output_type": "stream",
     "text": [
      "[nltk_data] Downloading package punkt to\n",
      "[nltk_data]     C:\\Users\\apurv\\AppData\\Roaming\\nltk_data...\n",
      "[nltk_data]   Unzipping tokenizers\\punkt.zip.\n"
     ]
    },
    {
     "data": {
      "text/plain": [
       "True"
      ]
     },
     "execution_count": 113,
     "metadata": {},
     "output_type": "execute_result"
    }
   ],
   "source": [
    "#nltk.download('punkt')"
   ]
  },
  {
   "cell_type": "code",
   "execution_count": 352,
   "metadata": {},
   "outputs": [],
   "source": [
    "automotive = preprocessing(df_automotive)"
   ]
  },
  {
   "cell_type": "code",
   "execution_count": 353,
   "metadata": {},
   "outputs": [
    {
     "data": {
      "text/html": [
       "<div>\n",
       "<style scoped>\n",
       "    .dataframe tbody tr th:only-of-type {\n",
       "        vertical-align: middle;\n",
       "    }\n",
       "\n",
       "    .dataframe tbody tr th {\n",
       "        vertical-align: top;\n",
       "    }\n",
       "\n",
       "    .dataframe thead th {\n",
       "        text-align: right;\n",
       "    }\n",
       "</style>\n",
       "<table border=\"1\" class=\"dataframe\">\n",
       "  <thead>\n",
       "    <tr style=\"text-align: right;\">\n",
       "      <th></th>\n",
       "      <th>Reviews</th>\n",
       "      <th>Rating</th>\n",
       "      <th>tokens</th>\n",
       "      <th>processed_reviews</th>\n",
       "    </tr>\n",
       "  </thead>\n",
       "  <tbody>\n",
       "    <tr>\n",
       "      <td>0</td>\n",
       "      <td>the man that was working tonight -- was rude r...</td>\n",
       "      <td>Negative</td>\n",
       "      <td>[man, work, tonight, --, rude, real, jerk, nee...</td>\n",
       "      <td>man work tonight -- rude real jerk need help g...</td>\n",
       "    </tr>\n",
       "    <tr>\n",
       "      <td>1</td>\n",
       "      <td>chris very rude person gave attitude about him...</td>\n",
       "      <td>Negative</td>\n",
       "      <td>[chri, rude, person, gave, attitud, chang, peo...</td>\n",
       "      <td>chri rude person gave attitud chang peopl work...</td>\n",
       "    </tr>\n",
       "    <tr>\n",
       "      <td>2</td>\n",
       "      <td>one favorite gas station stop at the store alw...</td>\n",
       "      <td>Positive</td>\n",
       "      <td>[one, favorit, ga, station, stop, store, alway...</td>\n",
       "      <td>one favorit ga station stop store alway clean ...</td>\n",
       "    </tr>\n",
       "    <tr>\n",
       "      <td>3</td>\n",
       "      <td>thank heaven for seven eleven dont know about ...</td>\n",
       "      <td>Negative</td>\n",
       "      <td>[thank, heaven, seven, eleven, dont, know, ,, ...</td>\n",
       "      <td>thank heaven seven eleven dont know , thank se...</td>\n",
       "    </tr>\n",
       "    <tr>\n",
       "      <td>4</td>\n",
       "      <td>five stars because the guy who works weekday m...</td>\n",
       "      <td>Positive</td>\n",
       "      <td>[five, star, guy, work, weekday, morn, around,...</td>\n",
       "      <td>five star guy work weekday morn around -am-ish...</td>\n",
       "    </tr>\n",
       "    <tr>\n",
       "      <td>...</td>\n",
       "      <td>...</td>\n",
       "      <td>...</td>\n",
       "      <td>...</td>\n",
       "      <td>...</td>\n",
       "    </tr>\n",
       "    <tr>\n",
       "      <td>1995</td>\n",
       "      <td>typical used cars, typical used car salesman w...</td>\n",
       "      <td>Negative</td>\n",
       "      <td>[typic, use, car, ,, typic, use, car, salesman...</td>\n",
       "      <td>typic use car , typic use car salesman will sa...</td>\n",
       "    </tr>\n",
       "    <tr>\n",
       "      <td>1996</td>\n",
       "      <td>what joke see suv craigslist listed the for sa...</td>\n",
       "      <td>Negative</td>\n",
       "      <td>[joke, see, suv, craigslist, list, sale, owner...</td>\n",
       "      <td>joke see suv craigslist list sale owner sectio...</td>\n",
       "    </tr>\n",
       "    <tr>\n",
       "      <td>1997</td>\n",
       "      <td>had called car thinking was private party got ...</td>\n",
       "      <td>Positive</td>\n",
       "      <td>[call, car, think, privat, parti, got, realiz,...</td>\n",
       "      <td>call car think privat parti got realiz dealers...</td>\n",
       "    </tr>\n",
       "    <tr>\n",
       "      <td>1998</td>\n",
       "      <td>purchased car from here was very happy with th...</td>\n",
       "      <td>Positive</td>\n",
       "      <td>[purchas, car, happi, servic, owner, mike, rec...</td>\n",
       "      <td>purchas car happi servic owner mike receiv gre...</td>\n",
       "    </tr>\n",
       "    <tr>\n",
       "      <td>1999</td>\n",
       "      <td>this place small car lot that promises whole s...</td>\n",
       "      <td>Negative</td>\n",
       "      <td>[place, small, car, lot, promis, whole, sale, ...</td>\n",
       "      <td>place small car lot promis whole sale auto pri...</td>\n",
       "    </tr>\n",
       "  </tbody>\n",
       "</table>\n",
       "<p>2000 rows × 4 columns</p>\n",
       "</div>"
      ],
      "text/plain": [
       "                                                Reviews    Rating  \\\n",
       "0     the man that was working tonight -- was rude r...  Negative   \n",
       "1     chris very rude person gave attitude about him...  Negative   \n",
       "2     one favorite gas station stop at the store alw...  Positive   \n",
       "3     thank heaven for seven eleven dont know about ...  Negative   \n",
       "4     five stars because the guy who works weekday m...  Positive   \n",
       "...                                                 ...       ...   \n",
       "1995  typical used cars, typical used car salesman w...  Negative   \n",
       "1996  what joke see suv craigslist listed the for sa...  Negative   \n",
       "1997  had called car thinking was private party got ...  Positive   \n",
       "1998  purchased car from here was very happy with th...  Positive   \n",
       "1999  this place small car lot that promises whole s...  Negative   \n",
       "\n",
       "                                                 tokens  \\\n",
       "0     [man, work, tonight, --, rude, real, jerk, nee...   \n",
       "1     [chri, rude, person, gave, attitud, chang, peo...   \n",
       "2     [one, favorit, ga, station, stop, store, alway...   \n",
       "3     [thank, heaven, seven, eleven, dont, know, ,, ...   \n",
       "4     [five, star, guy, work, weekday, morn, around,...   \n",
       "...                                                 ...   \n",
       "1995  [typic, use, car, ,, typic, use, car, salesman...   \n",
       "1996  [joke, see, suv, craigslist, list, sale, owner...   \n",
       "1997  [call, car, think, privat, parti, got, realiz,...   \n",
       "1998  [purchas, car, happi, servic, owner, mike, rec...   \n",
       "1999  [place, small, car, lot, promis, whole, sale, ...   \n",
       "\n",
       "                                      processed_reviews  \n",
       "0     man work tonight -- rude real jerk need help g...  \n",
       "1     chri rude person gave attitud chang peopl work...  \n",
       "2     one favorit ga station stop store alway clean ...  \n",
       "3     thank heaven seven eleven dont know , thank se...  \n",
       "4     five star guy work weekday morn around -am-ish...  \n",
       "...                                                 ...  \n",
       "1995  typic use car , typic use car salesman will sa...  \n",
       "1996  joke see suv craigslist list sale owner sectio...  \n",
       "1997  call car think privat parti got realiz dealers...  \n",
       "1998  purchas car happi servic owner mike receiv gre...  \n",
       "1999  place small car lot promis whole sale auto pri...  \n",
       "\n",
       "[2000 rows x 4 columns]"
      ]
     },
     "execution_count": 353,
     "metadata": {},
     "output_type": "execute_result"
    }
   ],
   "source": [
    "automotive"
   ]
  },
  {
   "cell_type": "code",
   "execution_count": 354,
   "metadata": {},
   "outputs": [
    {
     "data": {
      "text/html": [
       "<div>\n",
       "<style scoped>\n",
       "    .dataframe tbody tr th:only-of-type {\n",
       "        vertical-align: middle;\n",
       "    }\n",
       "\n",
       "    .dataframe tbody tr th {\n",
       "        vertical-align: top;\n",
       "    }\n",
       "\n",
       "    .dataframe thead th {\n",
       "        text-align: right;\n",
       "    }\n",
       "</style>\n",
       "<table border=\"1\" class=\"dataframe\">\n",
       "  <thead>\n",
       "    <tr style=\"text-align: right;\">\n",
       "      <th></th>\n",
       "      <th>Reviews</th>\n",
       "      <th>Rating</th>\n",
       "      <th>tokens</th>\n",
       "      <th>processed_reviews</th>\n",
       "    </tr>\n",
       "  </thead>\n",
       "  <tbody>\n",
       "    <tr>\n",
       "      <td>0</td>\n",
       "      <td>pros lots items you would not expect from chin...</td>\n",
       "      <td>Positive</td>\n",
       "      <td>[pro, lot, item, would, expect, chines, bakeri...</td>\n",
       "      <td>pro lot item would expect chines bakeri friend...</td>\n",
       "    </tr>\n",
       "    <tr>\n",
       "      <td>1</td>\n",
       "      <td>best egg-tarts town theres really not much say...</td>\n",
       "      <td>Positive</td>\n",
       "      <td>[best, egg-tart, town, there, realli, much, sa...</td>\n",
       "      <td>best egg-tart town there realli much say hong ...</td>\n",
       "    </tr>\n",
       "    <tr>\n",
       "      <td>2</td>\n",
       "      <td>ive been abc bakery few times since read they ...</td>\n",
       "      <td>Negative</td>\n",
       "      <td>[ive, abc, bakeri, time, sinc, read, one, top,...</td>\n",
       "      <td>ive abc bakeri time sinc read one top place eg...</td>\n",
       "    </tr>\n",
       "    <tr>\n",
       "      <td>3</td>\n",
       "      <td>fyi, closed mondays new ownership for about we...</td>\n",
       "      <td>Negative</td>\n",
       "      <td>[fyi, ,, close, monday, new, ownership, week, ...</td>\n",
       "      <td>fyi , close monday new ownership week , new me...</td>\n",
       "    </tr>\n",
       "    <tr>\n",
       "      <td>4</td>\n",
       "      <td>the inside may not look like much but they mak...</td>\n",
       "      <td>Positive</td>\n",
       "      <td>[insid, may, look, like, much, make, mean, egg...</td>\n",
       "      <td>insid may look like much make mean egg tart go...</td>\n",
       "    </tr>\n",
       "  </tbody>\n",
       "</table>\n",
       "</div>"
      ],
      "text/plain": [
       "                                             Reviews    Rating  \\\n",
       "0  pros lots items you would not expect from chin...  Positive   \n",
       "1  best egg-tarts town theres really not much say...  Positive   \n",
       "2  ive been abc bakery few times since read they ...  Negative   \n",
       "3  fyi, closed mondays new ownership for about we...  Negative   \n",
       "4  the inside may not look like much but they mak...  Positive   \n",
       "\n",
       "                                              tokens  \\\n",
       "0  [pro, lot, item, would, expect, chines, bakeri...   \n",
       "1  [best, egg-tart, town, there, realli, much, sa...   \n",
       "2  [ive, abc, bakeri, time, sinc, read, one, top,...   \n",
       "3  [fyi, ,, close, monday, new, ownership, week, ...   \n",
       "4  [insid, may, look, like, much, make, mean, egg...   \n",
       "\n",
       "                                   processed_reviews  \n",
       "0  pro lot item would expect chines bakeri friend...  \n",
       "1  best egg-tart town there realli much say hong ...  \n",
       "2  ive abc bakeri time sinc read one top place eg...  \n",
       "3  fyi , close monday new ownership week , new me...  \n",
       "4  insid may look like much make mean egg tart go...  "
      ]
     },
     "execution_count": 354,
     "metadata": {},
     "output_type": "execute_result"
    }
   ],
   "source": [
    "cafes = preprocessing(df_cafes)\n",
    "cafes.head(5)"
   ]
  },
  {
   "cell_type": "code",
   "execution_count": 355,
   "metadata": {},
   "outputs": [
    {
     "data": {
      "text/html": [
       "<div>\n",
       "<style scoped>\n",
       "    .dataframe tbody tr th:only-of-type {\n",
       "        vertical-align: middle;\n",
       "    }\n",
       "\n",
       "    .dataframe tbody tr th {\n",
       "        vertical-align: top;\n",
       "    }\n",
       "\n",
       "    .dataframe thead th {\n",
       "        text-align: right;\n",
       "    }\n",
       "</style>\n",
       "<table border=\"1\" class=\"dataframe\">\n",
       "  <thead>\n",
       "    <tr style=\"text-align: right;\">\n",
       "      <th></th>\n",
       "      <th>Reviews</th>\n",
       "      <th>Rating</th>\n",
       "      <th>tokens</th>\n",
       "      <th>processed_reviews</th>\n",
       "    </tr>\n",
       "  </thead>\n",
       "  <tbody>\n",
       "    <tr>\n",
       "      <td>0</td>\n",
       "      <td>looking for the best tactical supplies look ma...</td>\n",
       "      <td>Positive</td>\n",
       "      <td>[look, best, tactic, suppli, look, ma, polic, ...</td>\n",
       "      <td>look best tactic suppli look ma polic emt mili...</td>\n",
       "    </tr>\n",
       "    <tr>\n",
       "      <td>1</td>\n",
       "      <td>stood line like idiot for minutes purchase pan...</td>\n",
       "      <td>Negative</td>\n",
       "      <td>[stood, line, like, idiot, minut, purchas, pan...</td>\n",
       "      <td>stood line like idiot minut purchas pant ignor...</td>\n",
       "    </tr>\n",
       "    <tr>\n",
       "      <td>2</td>\n",
       "      <td>another great store with quality equipment the...</td>\n",
       "      <td>Positive</td>\n",
       "      <td>[anoth, great, store, qualiti, equip, staff, s...</td>\n",
       "      <td>anoth great store qualiti equip staff super fr...</td>\n",
       "    </tr>\n",
       "    <tr>\n",
       "      <td>3</td>\n",
       "      <td>the problem with this store not that they have...</td>\n",
       "      <td>Positive</td>\n",
       "      <td>[problem, store, awesom, custom, servic, entir...</td>\n",
       "      <td>problem store awesom custom servic entir staff...</td>\n",
       "    </tr>\n",
       "    <tr>\n",
       "      <td>4</td>\n",
       "      <td>great place went almost closing time and didnt...</td>\n",
       "      <td>Positive</td>\n",
       "      <td>[great, place, went, almost, close, time, didn...</td>\n",
       "      <td>great place went almost close time didnt feel ...</td>\n",
       "    </tr>\n",
       "  </tbody>\n",
       "</table>\n",
       "</div>"
      ],
      "text/plain": [
       "                                             Reviews    Rating  \\\n",
       "0  looking for the best tactical supplies look ma...  Positive   \n",
       "1  stood line like idiot for minutes purchase pan...  Negative   \n",
       "2  another great store with quality equipment the...  Positive   \n",
       "3  the problem with this store not that they have...  Positive   \n",
       "4  great place went almost closing time and didnt...  Positive   \n",
       "\n",
       "                                              tokens  \\\n",
       "0  [look, best, tactic, suppli, look, ma, polic, ...   \n",
       "1  [stood, line, like, idiot, minut, purchas, pan...   \n",
       "2  [anoth, great, store, qualiti, equip, staff, s...   \n",
       "3  [problem, store, awesom, custom, servic, entir...   \n",
       "4  [great, place, went, almost, close, time, didn...   \n",
       "\n",
       "                                   processed_reviews  \n",
       "0  look best tactic suppli look ma polic emt mili...  \n",
       "1  stood line like idiot minut purchas pant ignor...  \n",
       "2  anoth great store qualiti equip staff super fr...  \n",
       "3  problem store awesom custom servic entir staff...  \n",
       "4  great place went almost close time didnt feel ...  "
      ]
     },
     "execution_count": 355,
     "metadata": {},
     "output_type": "execute_result"
    }
   ],
   "source": [
    "fashion = preprocessing(df_fashion)\n",
    "fashion.head(5)"
   ]
  },
  {
   "cell_type": "markdown",
   "metadata": {},
   "source": [
    "## Task 2: Building a Classification Model\n",
    "\n",
    "#### I've decided to go ahead with the Random Forest Classifier\n",
    "#### Below are the steps that'd involve creating TF-IDFs, using fit_transform for relevant pre-processing and splitting of the data into training and testing sets"
   ]
  },
  {
   "cell_type": "code",
   "execution_count": 373,
   "metadata": {},
   "outputs": [],
   "source": [
    "#creating feature sets using tfidf vectorizer which will be further used in the classification\n",
    "vect = TfidfVectorizer(max_features = 3000, ngram_range=(1, 2))   #initialiazing max features to be 3000"
   ]
  },
  {
   "cell_type": "code",
   "execution_count": 374,
   "metadata": {},
   "outputs": [],
   "source": [
    "#storing labels for automotive, cafes and fashion's RATINGS in a new array\n",
    "y_a = np.array(automotive['Rating'])\n",
    "y_c = np.array(cafes['Rating'])\n",
    "y_f = np.array(fashion['Rating'])"
   ]
  },
  {
   "cell_type": "code",
   "execution_count": 375,
   "metadata": {},
   "outputs": [
    {
     "data": {
      "text/plain": [
       "array(['Negative', 'Negative', 'Positive', ..., 'Positive', 'Positive',\n",
       "       'Negative'], dtype=object)"
      ]
     },
     "execution_count": 375,
     "metadata": {},
     "output_type": "execute_result"
    }
   ],
   "source": [
    "y_a"
   ]
  },
  {
   "cell_type": "code",
   "execution_count": 376,
   "metadata": {},
   "outputs": [],
   "source": [
    "#using the fit_transform method of scikit-learn so as to count the number of tokens in the data\n",
    "#determining the TF-IDF for every token/word present \n",
    "\n",
    "x_a = vect.fit_transform(automotive['processed_reviews'])\n",
    "x_c = vect.fit_transform(cafes['processed_reviews'])\n",
    "x_f = vect.fit_transform(fashion['processed_reviews'])"
   ]
  },
  {
   "cell_type": "code",
   "execution_count": 377,
   "metadata": {},
   "outputs": [],
   "source": [
    "#storing the TF-IDF matrix acquired from above as an array\n",
    "x_a = x_a.toarray()\n",
    "x_c = x_c.toarray()\n",
    "x_f = x_f.toarray()"
   ]
  },
  {
   "cell_type": "code",
   "execution_count": 378,
   "metadata": {},
   "outputs": [
    {
     "data": {
      "text/plain": [
       "array([[0.        , 0.        , 0.        , ..., 0.        , 0.        ,\n",
       "        0.        ],\n",
       "       [0.        , 0.        , 0.        , ..., 0.        , 0.        ,\n",
       "        0.        ],\n",
       "       [0.19886267, 0.        , 0.33849374, ..., 0.        , 0.        ,\n",
       "        0.        ],\n",
       "       ...,\n",
       "       [0.        , 0.        , 0.        , ..., 0.        , 0.        ,\n",
       "        0.        ],\n",
       "       [0.        , 0.        , 0.        , ..., 0.        , 0.        ,\n",
       "        0.        ],\n",
       "       [0.        , 0.        , 0.        , ..., 0.        , 0.        ,\n",
       "        0.        ]])"
      ]
     },
     "execution_count": 378,
     "metadata": {},
     "output_type": "execute_result"
    }
   ],
   "source": [
    "x_f"
   ]
  },
  {
   "cell_type": "markdown",
   "metadata": {},
   "source": [
    "### Splitting the data into training and testing sets for all three categories using a train/test split of 60/40"
   ]
  },
  {
   "cell_type": "code",
   "execution_count": 379,
   "metadata": {},
   "outputs": [],
   "source": [
    "x_auto_train, x_auto_test, y_auto_train, y_auto_test = train_test_split(x_a, y_a, test_size = 0.4, random_state = 42)\n",
    "x_cafes_train, x_cafes_test, y_cafes_train, y_cafes_test = train_test_split(x_c, y_c, test_size = 0.4, random_state = 42)\n",
    "x_fashion_train, x_fashion_test, y_fashion_train, y_fashion_test = train_test_split(x_f, y_f, test_size = 0.4, random_state = 42)"
   ]
  },
  {
   "cell_type": "markdown",
   "metadata": {},
   "source": [
    "# TASK 3\n",
    "## 3A) Training the classifier on it's own training data, evaluating it's performance on test data\n",
    "## 3B) Evaluating and comparing it's performance on data from the other two categories\n",
    "\n",
    "#### Performing 3A and 3B for all the three categories: Automotive, Cafes, Fashion"
   ]
  },
  {
   "cell_type": "markdown",
   "metadata": {},
   "source": [
    "# Training the classifier on the Category: Automotive "
   ]
  },
  {
   "cell_type": "code",
   "execution_count": 380,
   "metadata": {},
   "outputs": [],
   "source": [
    "#Initializing the classifier for category automotive with estimators = 100\n",
    "automotive_classifier = RandomForestClassifier(n_estimators = 100, random_state = 42)"
   ]
  },
  {
   "cell_type": "code",
   "execution_count": 381,
   "metadata": {},
   "outputs": [
    {
     "data": {
      "text/plain": [
       "RandomForestClassifier(bootstrap=True, class_weight=None, criterion='gini',\n",
       "                       max_depth=None, max_features='auto', max_leaf_nodes=None,\n",
       "                       min_impurity_decrease=0.0, min_impurity_split=None,\n",
       "                       min_samples_leaf=1, min_samples_split=2,\n",
       "                       min_weight_fraction_leaf=0.0, n_estimators=100,\n",
       "                       n_jobs=None, oob_score=False, random_state=42, verbose=0,\n",
       "                       warm_start=False)"
      ]
     },
     "execution_count": 381,
     "metadata": {},
     "output_type": "execute_result"
    }
   ],
   "source": [
    "#Training the classifier with the reviews for automotive category\n",
    "automotive_classifier.fit(x_auto_train, y_auto_train) "
   ]
  },
  {
   "cell_type": "markdown",
   "metadata": {},
   "source": [
    "### Testing the Automotive Classifier on Test data for Automotive Category"
   ]
  },
  {
   "cell_type": "code",
   "execution_count": 382,
   "metadata": {},
   "outputs": [],
   "source": [
    "#using the predict method in order to find the predictions made on testing data from Automotive category \n",
    "y_auto_predicted = automotive_classifier.predict(x_auto_test)"
   ]
  },
  {
   "cell_type": "code",
   "execution_count": 383,
   "metadata": {},
   "outputs": [],
   "source": [
    "import seaborn as sb\n",
    "import matplotlib.pyplot as plt\n",
    "%matplotlib inline"
   ]
  },
  {
   "cell_type": "code",
   "execution_count": 386,
   "metadata": {},
   "outputs": [],
   "source": [
    "#Creating a function to evaluate the performance of classifiers\n",
    "\n",
    "def evaluation(t,p):\n",
    "    \n",
    "    #printing the confusion matrix using confusion_matrix function\n",
    "    print(confusion_matrix(t,p)) \n",
    "    \n",
    "    #Using classification_report function to evaluate the goodness of the classifier\n",
    "    print(classification_report(t,p)) \n",
    "    \n",
    "    #To get the accuracy using accuracy_score function\n",
    "    print(accuracy_score(t, p)) \n",
    "    \n",
    "    cmarr = confusion_matrix(t,p)\n",
    "    \n",
    "    cmdf = pd.DataFrame(cmarr, range(2), range(2))\n",
    "\n",
    "    fig, ax = plt.subplots(figsize=(7,7))\n",
    "    sb.heatmap(cmdf, annot=True, fmt = 'd')\n",
    "    plt.xlabel('Predicted')\n",
    "    plt.ylabel('Actual')\n",
    "    plt.title(\"Confusion Matrix\", fontsize = 15)\n",
    "    ax.set_ylim([0,2])\n",
    "    plt.rcParams.update({'font.size': 20})\n",
    "    plt.show()"
   ]
  },
  {
   "cell_type": "code",
   "execution_count": 387,
   "metadata": {},
   "outputs": [
    {
     "name": "stdout",
     "output_type": "stream",
     "text": [
      "[[262  55]\n",
      " [ 41 442]]\n",
      "              precision    recall  f1-score   support\n",
      "\n",
      "    Negative       0.86      0.83      0.85       317\n",
      "    Positive       0.89      0.92      0.90       483\n",
      "\n",
      "    accuracy                           0.88       800\n",
      "   macro avg       0.88      0.87      0.87       800\n",
      "weighted avg       0.88      0.88      0.88       800\n",
      "\n",
      "0.88\n"
     ]
    },
    {
     "data": {
      "image/png": "[encoded data removed]",
      "text/plain": [
       "<Figure size 504x504 with 2 Axes>"
      ]
     },
     "metadata": {
      "needs_background": "light"
     },
     "output_type": "display_data"
    }
   ],
   "source": [
    "evaluation(y_auto_test, y_auto_predicted)"
   ]
  },
  {
   "cell_type": "markdown",
   "metadata": {},
   "source": [
    "### As we can see, when evaluating the Automotive_classifier on the Automotive Test Data, the classifier provides with an accuracy of 88%\n",
    "\n"
   ]
  },
  {
   "cell_type": "markdown",
   "metadata": {},
   "source": [
    "## Testing the Automotive Classifier on Test data for Cafes Category"
   ]
  },
  {
   "cell_type": "code",
   "execution_count": 388,
   "metadata": {},
   "outputs": [],
   "source": [
    "#using the automotive classifier on x_cafes_test that is the test set for category Cafe\n",
    "y_auto_cafe_predicted = automotive_classifier.predict(x_cafes_test)"
   ]
  },
  {
   "cell_type": "code",
   "execution_count": 389,
   "metadata": {},
   "outputs": [
    {
     "name": "stdout",
     "output_type": "stream",
     "text": [
      "[[ 31 193]\n",
      " [ 68 508]]\n",
      "              precision    recall  f1-score   support\n",
      "\n",
      "    Negative       0.31      0.14      0.19       224\n",
      "    Positive       0.72      0.88      0.80       576\n",
      "\n",
      "    accuracy                           0.67       800\n",
      "   macro avg       0.52      0.51      0.49       800\n",
      "weighted avg       0.61      0.67      0.63       800\n",
      "\n",
      "0.67375\n"
     ]
    },
    {
     "data": {
      "image/png": "[encoded data removed]",
      "text/plain": [
       "<Figure size 504x504 with 2 Axes>"
      ]
     },
     "metadata": {
      "needs_background": "light"
     },
     "output_type": "display_data"
    }
   ],
   "source": [
    "evaluation(y_cafes_test, y_auto_cafe_predicted)"
   ]
  },
  {
   "cell_type": "markdown",
   "metadata": {},
   "source": [
    "### We can see that the accuracy obtained when Automotive_classifier is used on Cafes test data is 67.37%"
   ]
  },
  {
   "cell_type": "markdown",
   "metadata": {},
   "source": [
    "## Using the Automotive_Classifier on the test data for Category Fashion"
   ]
  },
  {
   "cell_type": "code",
   "execution_count": 390,
   "metadata": {},
   "outputs": [],
   "source": [
    "#using the automotive classifier on x_fashion_test that is the test set for category Fashion\n",
    "y_auto_fashion_predicted = automotive_classifier.predict(x_fashion_test)"
   ]
  },
  {
   "cell_type": "code",
   "execution_count": 391,
   "metadata": {},
   "outputs": [
    {
     "name": "stdout",
     "output_type": "stream",
     "text": [
      "[[ 34 284]\n",
      " [ 37 445]]\n",
      "              precision    recall  f1-score   support\n",
      "\n",
      "    Negative       0.48      0.11      0.17       318\n",
      "    Positive       0.61      0.92      0.73       482\n",
      "\n",
      "    accuracy                           0.60       800\n",
      "   macro avg       0.54      0.52      0.45       800\n",
      "weighted avg       0.56      0.60      0.51       800\n",
      "\n",
      "0.59875\n"
     ]
    },
    {
     "data": {
      "image/png": "[encoded data removed]",
      "text/plain": [
       "<Figure size 504x504 with 2 Axes>"
      ]
     },
     "metadata": {
      "needs_background": "light"
     },
     "output_type": "display_data"
    }
   ],
   "source": [
    "evaluation(y_fashion_test, y_auto_fashion_predicted)"
   ]
  },
  {
   "cell_type": "markdown",
   "metadata": {},
   "source": [
    "### We can see that the accuracy obtained for when Automotive_classifier is used on Fashion data is 59.87% "
   ]
  },
  {
   "cell_type": "markdown",
   "metadata": {},
   "source": [
    "# Training the classifier on the training data from Category: Cafes"
   ]
  },
  {
   "cell_type": "code",
   "execution_count": 392,
   "metadata": {},
   "outputs": [
    {
     "data": {
      "text/plain": [
       "RandomForestClassifier(bootstrap=True, class_weight=None, criterion='gini',\n",
       "                       max_depth=None, max_features='auto', max_leaf_nodes=None,\n",
       "                       min_impurity_decrease=0.0, min_impurity_split=None,\n",
       "                       min_samples_leaf=1, min_samples_split=2,\n",
       "                       min_weight_fraction_leaf=0.0, n_estimators=100,\n",
       "                       n_jobs=None, oob_score=False, random_state=42, verbose=0,\n",
       "                       warm_start=False)"
      ]
     },
     "execution_count": 392,
     "metadata": {},
     "output_type": "execute_result"
    }
   ],
   "source": [
    "#Using the RandomForestClassifier on category cafes with estimators initialized to 100\n",
    "cafes_classifier = RandomForestClassifier(n_estimators = 100, random_state = 42)\n",
    "\n",
    "cafes_classifier.fit(x_cafes_train, y_cafes_train)  #Training the classifier with the reviews for cafes"
   ]
  },
  {
   "cell_type": "markdown",
   "metadata": {},
   "source": [
    "### Testing the Cafe Classifier on Test data for Cafe Reviews"
   ]
  },
  {
   "cell_type": "code",
   "execution_count": 393,
   "metadata": {},
   "outputs": [
    {
     "name": "stdout",
     "output_type": "stream",
     "text": [
      "[[ 77 147]\n",
      " [  7 569]]\n",
      "              precision    recall  f1-score   support\n",
      "\n",
      "    Negative       0.92      0.34      0.50       224\n",
      "    Positive       0.79      0.99      0.88       576\n",
      "\n",
      "    accuracy                           0.81       800\n",
      "   macro avg       0.86      0.67      0.69       800\n",
      "weighted avg       0.83      0.81      0.77       800\n",
      "\n",
      "0.8075\n"
     ]
    },
    {
     "data": {
      "image/png": "[encoded data removed]",
      "text/plain": [
       "<Figure size 504x504 with 2 Axes>"
      ]
     },
     "metadata": {
      "needs_background": "light"
     },
     "output_type": "display_data"
    }
   ],
   "source": [
    "#Using the classifier which has been trained on Cafe Reviews on the test data of Cafe\n",
    "y_cafes_predicted = cafes_classifier.predict(x_cafes_test) \n",
    "\n",
    "#Running it through the evaluation function to get the accuracy and other details\n",
    "evaluation(y_cafes_test,y_cafes_predicted) "
   ]
  },
  {
   "cell_type": "markdown",
   "metadata": {},
   "source": [
    "### We can see that the accuracy obtained for when Cafe_classifier is used on Cafes test data is 80.75%"
   ]
  },
  {
   "cell_type": "markdown",
   "metadata": {},
   "source": [
    "### Testing the Cafe_Classifier on Test data for Fashion Reviews"
   ]
  },
  {
   "cell_type": "code",
   "execution_count": 319,
   "metadata": {},
   "outputs": [
    {
     "name": "stdout",
     "output_type": "stream",
     "text": [
      "[[ 10 308]\n",
      " [ 22 460]]\n",
      "              precision    recall  f1-score   support\n",
      "\n",
      "    Negative       0.31      0.03      0.06       318\n",
      "    Positive       0.60      0.95      0.74       482\n",
      "\n",
      "    accuracy                           0.59       800\n",
      "   macro avg       0.46      0.49      0.40       800\n",
      "weighted avg       0.49      0.59      0.47       800\n",
      "\n",
      "0.5875\n"
     ]
    },
    {
     "data": {
      "image/png": "[encoded data removed]",
      "text/plain": [
       "<Figure size 504x504 with 2 Axes>"
      ]
     },
     "metadata": {},
     "output_type": "display_data"
    }
   ],
   "source": [
    "#running the test data for fashion reviews through the classifier built on the category Cafes\n",
    "y_cafe_fashion_predicted = cafes_classifier.predict(x_fashion_test)  \n",
    "\n",
    "evaluation(y_fashion_test,y_cafe_fashion_predicted) #passing it through the evaluation function"
   ]
  },
  {
   "cell_type": "markdown",
   "metadata": {},
   "source": [
    "#### We can see that the accuracy obtained for when Cafe classifier is used on Fashion test data is 58.75%"
   ]
  },
  {
   "cell_type": "markdown",
   "metadata": {},
   "source": [
    "### Testing the Cafe Classifier on Test data for Automotive Reviews"
   ]
  },
  {
   "cell_type": "code",
   "execution_count": 394,
   "metadata": {},
   "outputs": [
    {
     "name": "stdout",
     "output_type": "stream",
     "text": [
      "[[ 64 253]\n",
      " [ 42 441]]\n",
      "              precision    recall  f1-score   support\n",
      "\n",
      "    Negative       0.60      0.20      0.30       317\n",
      "    Positive       0.64      0.91      0.75       483\n",
      "\n",
      "    accuracy                           0.63       800\n",
      "   macro avg       0.62      0.56      0.53       800\n",
      "weighted avg       0.62      0.63      0.57       800\n",
      "\n",
      "0.63125\n"
     ]
    },
    {
     "data": {
      "image/png": "[encoded data removed]",
      "text/plain": [
       "<Figure size 504x504 with 2 Axes>"
      ]
     },
     "metadata": {
      "needs_background": "light"
     },
     "output_type": "display_data"
    }
   ],
   "source": [
    "#running the test data for automotive reviews through the classifier built on the category Cafes\n",
    "y_cafe_automotive_predicted = cafes_classifier.predict(x_auto_test)  \n",
    "\n",
    "evaluation(y_auto_test,y_cafe_automotive_predicted) "
   ]
  },
  {
   "cell_type": "markdown",
   "metadata": {},
   "source": [
    "### We can see that the accuracy obtained for when Cafes_classifier is used on Automotive test data is 63.12%"
   ]
  },
  {
   "cell_type": "markdown",
   "metadata": {},
   "source": [
    "# Training the classifier on the Category: Fashion "
   ]
  },
  {
   "cell_type": "code",
   "execution_count": 395,
   "metadata": {},
   "outputs": [
    {
     "data": {
      "text/plain": [
       "RandomForestClassifier(bootstrap=True, class_weight=None, criterion='gini',\n",
       "                       max_depth=None, max_features='auto', max_leaf_nodes=None,\n",
       "                       min_impurity_decrease=0.0, min_impurity_split=None,\n",
       "                       min_samples_leaf=1, min_samples_split=2,\n",
       "                       min_weight_fraction_leaf=0.0, n_estimators=100,\n",
       "                       n_jobs=None, oob_score=False, random_state=42, verbose=0,\n",
       "                       warm_start=False)"
      ]
     },
     "execution_count": 395,
     "metadata": {},
     "output_type": "execute_result"
    }
   ],
   "source": [
    "#Initiaizing the classifier for category fashion with estimators = 100\n",
    "fashion_classifier = RandomForestClassifier(n_estimators = 100, random_state = 42)\n",
    "\n",
    "#Training the classifier with the reviews for fashion category itself\n",
    "fashion_classifier.fit(x_fashion_train, y_fashion_train)"
   ]
  },
  {
   "cell_type": "markdown",
   "metadata": {},
   "source": [
    "#### Testing the Classifier built on Fashion training data reviews on Test data for Fashion Reviews "
   ]
  },
  {
   "cell_type": "code",
   "execution_count": 396,
   "metadata": {},
   "outputs": [
    {
     "name": "stdout",
     "output_type": "stream",
     "text": [
      "[[218 100]\n",
      " [ 21 461]]\n",
      "              precision    recall  f1-score   support\n",
      "\n",
      "    Negative       0.91      0.69      0.78       318\n",
      "    Positive       0.82      0.96      0.88       482\n",
      "\n",
      "    accuracy                           0.85       800\n",
      "   macro avg       0.87      0.82      0.83       800\n",
      "weighted avg       0.86      0.85      0.84       800\n",
      "\n",
      "0.84875\n"
     ]
    },
    {
     "data": {
      "image/png": "[encoded data removed]",
      "text/plain": [
       "<Figure size 504x504 with 2 Axes>"
      ]
     },
     "metadata": {
      "needs_background": "light"
     },
     "output_type": "display_data"
    }
   ],
   "source": [
    "#Using the classifier which has been trained on Fashion Reviews on the test data of Fashion category itself\n",
    "y_fashion_predicted = fashion_classifier.predict(x_fashion_test) \n",
    "\n",
    "#Running it through the evaluation function to get the accuracy and other details\n",
    "evaluation(y_fashion_test,y_fashion_predicted) "
   ]
  },
  {
   "cell_type": "markdown",
   "metadata": {},
   "source": [
    "#### We can see that the accuracy obtained for when Fashion_classifier is used on Fashion test data is 84.87%"
   ]
  },
  {
   "cell_type": "markdown",
   "metadata": {},
   "source": [
    "### Testing the Classifier built on Fashion reviews on Test data for Automotive Reviews "
   ]
  },
  {
   "cell_type": "code",
   "execution_count": 397,
   "metadata": {},
   "outputs": [
    {
     "name": "stdout",
     "output_type": "stream",
     "text": [
      "[[ 64 253]\n",
      " [ 92 391]]\n",
      "              precision    recall  f1-score   support\n",
      "\n",
      "    Negative       0.41      0.20      0.27       317\n",
      "    Positive       0.61      0.81      0.69       483\n",
      "\n",
      "    accuracy                           0.57       800\n",
      "   macro avg       0.51      0.51      0.48       800\n",
      "weighted avg       0.53      0.57      0.53       800\n",
      "\n",
      "0.56875\n"
     ]
    },
    {
     "data": {
      "image/png": "[encoded data removed]",
      "text/plain": [
       "<Figure size 504x504 with 2 Axes>"
      ]
     },
     "metadata": {
      "needs_background": "light"
     },
     "output_type": "display_data"
    }
   ],
   "source": [
    "#running the test data for automotive reviews through the classifier built on the category Fashion\n",
    "y_fashion_automotive_predicted = fashion_classifier.predict(x_auto_test)  \n",
    "\n",
    "evaluation(y_auto_test,y_fashion_automotive_predicted) "
   ]
  },
  {
   "cell_type": "markdown",
   "metadata": {},
   "source": [
    "#### We can see that the accuracy obtained for when Fashion_classifier is used on Automotive test data is 56.87%"
   ]
  },
  {
   "cell_type": "markdown",
   "metadata": {},
   "source": [
    "### Testing the Classifier built on Fashion reviews on Test data for Fashion Reviews"
   ]
  },
  {
   "cell_type": "code",
   "execution_count": 398,
   "metadata": {},
   "outputs": [
    {
     "name": "stdout",
     "output_type": "stream",
     "text": [
      "[[ 27 197]\n",
      " [ 48 528]]\n",
      "              precision    recall  f1-score   support\n",
      "\n",
      "    Negative       0.36      0.12      0.18       224\n",
      "    Positive       0.73      0.92      0.81       576\n",
      "\n",
      "    accuracy                           0.69       800\n",
      "   macro avg       0.54      0.52      0.50       800\n",
      "weighted avg       0.63      0.69      0.63       800\n",
      "\n",
      "0.69375\n"
     ]
    },
    {
     "data": {
      "image/png": "[encoded data removed]",
      "text/plain": [
       "<Figure size 504x504 with 2 Axes>"
      ]
     },
     "metadata": {
      "needs_background": "light"
     },
     "output_type": "display_data"
    }
   ],
   "source": [
    "#running the test data for automotive reviews through the classifier built on the category Fashion\n",
    "y_fashion_cafes_predicted = fashion_classifier.predict(x_cafes_test)  \n",
    "\n",
    "evaluation(y_cafes_test,y_fashion_cafes_predicted)"
   ]
  },
  {
   "cell_type": "markdown",
   "metadata": {},
   "source": [
    "#### We can see that the accuracy obtained for when Fashion_classifier is used on Cafes test data is 69.37%"
   ]
  },
  {
   "cell_type": "markdown",
   "metadata": {},
   "source": [
    "## CONCLUSION\n",
    "### Task 1: To select 3 categories and parsing and scraping data from the websites: Completed\n",
    "### Task 2: To train one of the classifiers on one category and check its performance: Completed\n",
    "### Task 3: To use the same classifier on the other two categories and check its performance: Completed\n",
    "\n",
    "##### Overall, we can see that when a classifier is trained on Automotive's training data and used on Automotive's testing set, it gives much more accuracy than when it is used on testing set from Cafe and Fashion category. Similaryly, when the Classifier trained on Cafes training data is used on testing set of Cafe Reviews, it gives much accuracy than when it is used on Automotive's testing data and Fashion's testing data. It's the same case with Fashion's classifier too. Concluding that, the RandomForest Classifier works best when it is applied onto the same categories testing data who's training data was used to train the classifier, but performs less accurately when used on the other two categories."
   ]
  }
 ],
 "metadata": {
  "kernelspec": {
   "display_name": "Python 3",
   "language": "python",
   "name": "python3"
  },
  "language_info": {
   "codemirror_mode": {
    "name": "ipython",
    "version": 3
   },
   "file_extension": ".py",
   "mimetype": "text/x-python",
   "name": "python",
   "nbconvert_exporter": "python",
   "pygments_lexer": "ipython3",
   "version": "3.7.4"
  }
 },
 "nbformat": 4,
 "nbformat_minor": 2
}
